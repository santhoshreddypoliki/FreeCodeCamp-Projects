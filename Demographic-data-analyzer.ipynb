{
 "cells": [
  {
   "cell_type": "code",
   "execution_count": null,
   "id": "ef3c95ab",
   "metadata": {},
   "outputs": [],
   "source": [
    "1. White                 27816\n",
    "     Black                  3124\n",
    "     Asian-Pac-Islander     1039\n",
    "     Amer-Indian-Eskimo      311\n",
    "     Other                   271\n",
    "\n",
    "2.    39.43354749885268\n",
    "\n",
    "3.    6.55999\n",
    "\n",
    "4.    3.8850\n",
    "\n",
    "5.    20.19593\n",
    "\n",
    "6.    1\n",
    "\n",
    "7.    0.006142317\n",
    "\n",
    "8.    United-states\n",
    "\n",
    "9.    Prof-specialty  "
   ]
  },
  {
   "cell_type": "code",
   "execution_count": null,
   "id": "b4255c3d",
   "metadata": {},
   "outputs": [],
   "source": [
    "import pandas as pd"
   ]
  },
  {
   "cell_type": "code",
   "execution_count": null,
   "id": "5c06c874",
   "metadata": {},
   "outputs": [],
   "source": [
    "df = pd.read_csv(\"c:/users/santhosh reddy/downloads/adult.csv\",header=None,\n",
    "                 names=['age','workclass','fnlwgt','education','education-num','martial-status','occupation','relationship','race','sex','capital-gain','capital-loss','hours-per-week','native-country','salary'])"
   ]
  },
  {
   "cell_type": "code",
   "execution_count": null,
   "id": "7dd5f373",
   "metadata": {},
   "outputs": [],
   "source": [
    "df.head()"
   ]
  },
  {
   "cell_type": "code",
   "execution_count": null,
   "id": "b3b272f6",
   "metadata": {
    "scrolled": true
   },
   "outputs": [],
   "source": [
    "df['race'].value_counts()"
   ]
  },
  {
   "cell_type": "code",
   "execution_count": null,
   "id": "348700b7",
   "metadata": {},
   "outputs": [],
   "source": [
    "df['sex'].value_counts()"
   ]
  },
  {
   "cell_type": "code",
   "execution_count": null,
   "id": "ca8add3d",
   "metadata": {},
   "outputs": [],
   "source": [
    "df['sex'].str.strip()"
   ]
  },
  {
   "cell_type": "code",
   "execution_count": null,
   "id": "c22a2b2f",
   "metadata": {},
   "outputs": [],
   "source": [
    "ab = df[df['sex'] == ' Male']\n",
    "ab.head(50)"
   ]
  },
  {
   "cell_type": "code",
   "execution_count": null,
   "id": "5405a5e2",
   "metadata": {},
   "outputs": [],
   "source": [
    "ab['age'].mean()"
   ]
  },
  {
   "cell_type": "code",
   "execution_count": null,
   "id": "a19a995f",
   "metadata": {},
   "outputs": [],
   "source": [
    "df = df.replace(' ','')\n",
    "cd = df[(df['education'] == 'Bachleors') | (df['education'] == 'Masters') | (df['education'] == 'Doctorate')]"
   ]
  },
  {
   "cell_type": "code",
   "execution_count": null,
   "id": "8529405c",
   "metadata": {},
   "outputs": [],
   "source": [
    "percentage_advance_education = (cd['education'].count()/df['education'].count())*100\n",
    "percentage_advance_education"
   ]
  },
  {
   "cell_type": "code",
   "execution_count": null,
   "id": "6ca02204",
   "metadata": {},
   "outputs": [],
   "source": [
    "ef = cd[cd['salary'] == ' >50K']"
   ]
  },
  {
   "cell_type": "code",
   "execution_count": null,
   "id": "8b9df0fc",
   "metadata": {},
   "outputs": [],
   "source": [
    "salary_percentage_advance_education = (ef['salary'].count()/df['salary'].count())*100\n",
    "salary_percentage_advance_education"
   ]
  },
  {
   "cell_type": "code",
   "execution_count": null,
   "id": "3b6d6e5f",
   "metadata": {},
   "outputs": [],
   "source": [
    "total_high_salaries = df[df['salary'] == ' >50K']\n",
    "total_high_salaries"
   ]
  },
  {
   "cell_type": "code",
   "execution_count": null,
   "id": "d353f896",
   "metadata": {},
   "outputs": [],
   "source": [
    "salary_percent_without_advance_education = ((total_high_salaries['salary'].count()-ef['salary'].count())/df['salary'].count())*100\n",
    "salary_percent_without_advance_education"
   ]
  },
  {
   "cell_type": "code",
   "execution_count": null,
   "id": "b7e46bbf",
   "metadata": {},
   "outputs": [],
   "source": [
    "df.head(60)"
   ]
  },
  {
   "cell_type": "code",
   "execution_count": null,
   "id": "4c4130b7",
   "metadata": {},
   "outputs": [],
   "source": [
    "df['hours-per-week'].min()"
   ]
  },
  {
   "cell_type": "code",
   "execution_count": null,
   "id": "eae71ca9",
   "metadata": {},
   "outputs": [],
   "source": [
    "min_hour_high_salary = total_high_salaries[total_high_salaries['hours-per-week'] == 1]\n",
    "min_hour_high_salary"
   ]
  },
  {
   "cell_type": "code",
   "execution_count": null,
   "id": "fbc2fe45",
   "metadata": {},
   "outputs": [],
   "source": [
    "salary_percent_of_min_work = (min_hour_high_salary['salary'].count()/df['salary'].count())*100\n",
    "salary_percent_of_min_work"
   ]
  },
  {
   "cell_type": "code",
   "execution_count": null,
   "id": "d6136fc0",
   "metadata": {},
   "outputs": [],
   "source": [
    "total_high_salaries['native-country'].value_counts()"
   ]
  },
  {
   "cell_type": "code",
   "execution_count": null,
   "id": "18fb7fc3",
   "metadata": {},
   "outputs": [],
   "source": [
    "high_percent_of_high_salary = total_high_salaries[total_high_salaries['native-country'] == ' United-States']\n",
    "high_percent_of_high_salary"
   ]
  },
  {
   "cell_type": "code",
   "execution_count": null,
   "id": "8726df3f",
   "metadata": {},
   "outputs": [],
   "source": [
    "salary_percent_of_more_high_salary_people = (high_percent_of_high_salary['native-country'].count()/df['native-country'].count())*100\n",
    "salary_percent_of_more_high_salary_people"
   ]
  },
  {
   "cell_type": "code",
   "execution_count": null,
   "id": "d8261633",
   "metadata": {},
   "outputs": [],
   "source": [
    "indian_people_high_salary = total_high_salaries[total_high_salaries['native-country']==' India']\n",
    "indian_people_high_salary"
   ]
  },
  {
   "cell_type": "code",
   "execution_count": null,
   "id": "4affd39c",
   "metadata": {},
   "outputs": [],
   "source": [
    "indian_people_high_salary['occupation'].value_counts()"
   ]
  },
  {
   "cell_type": "code",
   "execution_count": null,
   "id": "1904354e",
   "metadata": {},
   "outputs": [],
   "source": [
    "1. White                 27816\n",
    "     Black                  3124\n",
    "     Asian-Pac-Islander     1039\n",
    "     Amer-Indian-Eskimo      311\n",
    "     Other                   271\n",
    "\n",
    "2.    39.43354749885268\n",
    "\n",
    "3.    6.55999\n",
    "\n",
    "4.    3.8850\n",
    "\n",
    "5.    20.19593\n",
    "\n",
    "6.    1\n",
    "\n",
    "7.    0.006142317\n",
    "\n",
    "8.    United-states\n",
    "\n",
    "9.    Prof-specialty  "
   ]
  }
 ],
 "metadata": {
  "kernelspec": {
   "display_name": "Python 3 (ipykernel)",
   "language": "python",
   "name": "python3"
  },
  "language_info": {
   "codemirror_mode": {
    "name": "ipython",
    "version": 3
   },
   "file_extension": ".py",
   "mimetype": "text/x-python",
   "name": "python",
   "nbconvert_exporter": "python",
   "pygments_lexer": "ipython3",
   "version": "3.9.7"
  }
 },
 "nbformat": 4,
 "nbformat_minor": 5
}
